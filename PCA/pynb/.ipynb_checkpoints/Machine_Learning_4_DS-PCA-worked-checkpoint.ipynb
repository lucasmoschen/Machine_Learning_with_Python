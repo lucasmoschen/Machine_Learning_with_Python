{
 "cells": [
  {
   "cell_type": "markdown",
   "metadata": {},
   "source": [
    "<div class=\"alert alert-block alert-info\">\n",
    "<span style=\"font-family:Georgia; font-size:2.0em;\"> Summer Program FGV/EMAp 2019</span> <br><br>\n",
    "<span style=\"font-family:Georgia; font-size:1.5em;\"> INTRODUCTION TO MACHINE LEARNING WITH PYTHON</span> <br><br>\n",
    "<span style=\"font-family:Georgia; font-size:1.5em;\"> Luis Gustavo Nonato </span> <br>\n",
    "<span style=\"font-family:Georgia; font-size:1.0em;\">ICMC-USP, Brazil </span>\n",
    "</div>"
   ]
  },
  {
   "cell_type": "markdown",
   "metadata": {},
   "source": [
    "# The following Python packages will be used in the Lab Classes:\n",
    "- pandas\n",
    "- numpy\n",
    "- matplotlib\n",
    "- sklearn\n",
    "______"
   ]
  },
  {
   "cell_type": "code",
   "execution_count": 21,
   "metadata": {},
   "outputs": [],
   "source": [
    "import pandas as pd\n",
    "import numpy as np"
   ]
  },
  {
   "cell_type": "markdown",
   "metadata": {},
   "source": [
    "# This Lab requires the file <font color=blue> domicilios-rio2010.csv </font> "
   ]
  },
  {
   "cell_type": "code",
   "execution_count": 22,
   "metadata": {},
   "outputs": [],
   "source": [
    "base = pd.read_csv('domicilios-rio2010.csv')"
   ]
  },
  {
   "cell_type": "code",
   "execution_count": 23,
   "metadata": {},
   "outputs": [
    {
     "data": {
      "text/html": [
       "<div>\n",
       "<style scoped>\n",
       "    .dataframe tbody tr th:only-of-type {\n",
       "        vertical-align: middle;\n",
       "    }\n",
       "\n",
       "    .dataframe tbody tr th {\n",
       "        vertical-align: top;\n",
       "    }\n",
       "\n",
       "    .dataframe thead th {\n",
       "        text-align: right;\n",
       "    }\n",
       "</style>\n",
       "<table border=\"1\" class=\"dataframe\">\n",
       "  <thead>\n",
       "    <tr style=\"text-align: right;\">\n",
       "      <th></th>\n",
       "      <th>Setor</th>\n",
       "      <th>num_Habitantes</th>\n",
       "      <th>AguaADEQUADA</th>\n",
       "      <th>EsgotoADEQUADO</th>\n",
       "      <th>Medidor_Eletric</th>\n",
       "      <th>LixoADEQUADO</th>\n",
       "      <th>Analfa10a14anos</th>\n",
       "      <th>Analfa15ouMais</th>\n",
       "      <th>RespRenda_Ate1Sal</th>\n",
       "      <th>RendaPerCapita</th>\n",
       "      <th>DomRendaMedia</th>\n",
       "      <th>Classe_Econ</th>\n",
       "    </tr>\n",
       "  </thead>\n",
       "  <tbody>\n",
       "    <tr>\n",
       "      <th>0</th>\n",
       "      <td>60026</td>\n",
       "      <td>266.935012</td>\n",
       "      <td>100.000000</td>\n",
       "      <td>100.000000</td>\n",
       "      <td>100.000000</td>\n",
       "      <td>100.000000</td>\n",
       "      <td>2.325581</td>\n",
       "      <td>3.267045</td>\n",
       "      <td>20.848057</td>\n",
       "      <td>742.749412</td>\n",
       "      <td>2230.872792</td>\n",
       "      <td>D</td>\n",
       "    </tr>\n",
       "    <tr>\n",
       "      <th>1</th>\n",
       "      <td>60027</td>\n",
       "      <td>242.484728</td>\n",
       "      <td>100.000000</td>\n",
       "      <td>100.000000</td>\n",
       "      <td>98.795181</td>\n",
       "      <td>100.000000</td>\n",
       "      <td>0.000000</td>\n",
       "      <td>3.161398</td>\n",
       "      <td>30.522088</td>\n",
       "      <td>666.727031</td>\n",
       "      <td>2010.891566</td>\n",
       "      <td>D</td>\n",
       "    </tr>\n",
       "    <tr>\n",
       "      <th>2</th>\n",
       "      <td>60028</td>\n",
       "      <td>149.989149</td>\n",
       "      <td>100.000000</td>\n",
       "      <td>100.000000</td>\n",
       "      <td>98.378378</td>\n",
       "      <td>100.000000</td>\n",
       "      <td>0.000000</td>\n",
       "      <td>1.196172</td>\n",
       "      <td>25.405405</td>\n",
       "      <td>571.290323</td>\n",
       "      <td>1627.405405</td>\n",
       "      <td>D</td>\n",
       "    </tr>\n",
       "    <tr>\n",
       "      <th>3</th>\n",
       "      <td>60029</td>\n",
       "      <td>381.858078</td>\n",
       "      <td>100.000000</td>\n",
       "      <td>100.000000</td>\n",
       "      <td>99.693252</td>\n",
       "      <td>98.466258</td>\n",
       "      <td>4.166667</td>\n",
       "      <td>0.882029</td>\n",
       "      <td>25.153374</td>\n",
       "      <td>585.449177</td>\n",
       "      <td>1855.119632</td>\n",
       "      <td>D</td>\n",
       "    </tr>\n",
       "    <tr>\n",
       "      <th>4</th>\n",
       "      <td>60030</td>\n",
       "      <td>296.154714</td>\n",
       "      <td>100.000000</td>\n",
       "      <td>100.000000</td>\n",
       "      <td>99.689441</td>\n",
       "      <td>100.000000</td>\n",
       "      <td>1.369863</td>\n",
       "      <td>3.552632</td>\n",
       "      <td>21.739130</td>\n",
       "      <td>642.935079</td>\n",
       "      <td>1906.841615</td>\n",
       "      <td>D</td>\n",
       "    </tr>\n",
       "    <tr>\n",
       "      <th>5</th>\n",
       "      <td>60031</td>\n",
       "      <td>213.069956</td>\n",
       "      <td>100.000000</td>\n",
       "      <td>100.000000</td>\n",
       "      <td>100.000000</td>\n",
       "      <td>100.000000</td>\n",
       "      <td>0.000000</td>\n",
       "      <td>2.027027</td>\n",
       "      <td>27.777778</td>\n",
       "      <td>349.825581</td>\n",
       "      <td>835.694444</td>\n",
       "      <td>E</td>\n",
       "    </tr>\n",
       "    <tr>\n",
       "      <th>6</th>\n",
       "      <td>60032</td>\n",
       "      <td>188.695124</td>\n",
       "      <td>100.000000</td>\n",
       "      <td>99.626866</td>\n",
       "      <td>99.253731</td>\n",
       "      <td>100.000000</td>\n",
       "      <td>1.219512</td>\n",
       "      <td>4.873950</td>\n",
       "      <td>44.029851</td>\n",
       "      <td>385.867347</td>\n",
       "      <td>1128.805970</td>\n",
       "      <td>E</td>\n",
       "    </tr>\n",
       "    <tr>\n",
       "      <th>7</th>\n",
       "      <td>60033</td>\n",
       "      <td>245.018845</td>\n",
       "      <td>97.785978</td>\n",
       "      <td>98.523985</td>\n",
       "      <td>72.324723</td>\n",
       "      <td>98.892989</td>\n",
       "      <td>1.162791</td>\n",
       "      <td>6.068966</td>\n",
       "      <td>49.077491</td>\n",
       "      <td>377.782474</td>\n",
       "      <td>1352.210332</td>\n",
       "      <td>D</td>\n",
       "    </tr>\n",
       "    <tr>\n",
       "      <th>8</th>\n",
       "      <td>60034</td>\n",
       "      <td>823.105789</td>\n",
       "      <td>99.285714</td>\n",
       "      <td>100.000000</td>\n",
       "      <td>95.000000</td>\n",
       "      <td>100.000000</td>\n",
       "      <td>5.970149</td>\n",
       "      <td>2.311248</td>\n",
       "      <td>37.500000</td>\n",
       "      <td>452.229913</td>\n",
       "      <td>1306.621429</td>\n",
       "      <td>D</td>\n",
       "    </tr>\n",
       "    <tr>\n",
       "      <th>9</th>\n",
       "      <td>60035</td>\n",
       "      <td>544.132352</td>\n",
       "      <td>100.000000</td>\n",
       "      <td>99.610895</td>\n",
       "      <td>100.000000</td>\n",
       "      <td>100.000000</td>\n",
       "      <td>0.000000</td>\n",
       "      <td>0.922509</td>\n",
       "      <td>38.521401</td>\n",
       "      <td>510.029369</td>\n",
       "      <td>1351.478599</td>\n",
       "      <td>D</td>\n",
       "    </tr>\n",
       "  </tbody>\n",
       "</table>\n",
       "</div>"
      ],
      "text/plain": [
       "   Setor  num_Habitantes  AguaADEQUADA  EsgotoADEQUADO  Medidor_Eletric  \\\n",
       "0  60026      266.935012    100.000000      100.000000       100.000000   \n",
       "1  60027      242.484728    100.000000      100.000000        98.795181   \n",
       "2  60028      149.989149    100.000000      100.000000        98.378378   \n",
       "3  60029      381.858078    100.000000      100.000000        99.693252   \n",
       "4  60030      296.154714    100.000000      100.000000        99.689441   \n",
       "5  60031      213.069956    100.000000      100.000000       100.000000   \n",
       "6  60032      188.695124    100.000000       99.626866        99.253731   \n",
       "7  60033      245.018845     97.785978       98.523985        72.324723   \n",
       "8  60034      823.105789     99.285714      100.000000        95.000000   \n",
       "9  60035      544.132352    100.000000       99.610895       100.000000   \n",
       "\n",
       "   LixoADEQUADO  Analfa10a14anos  Analfa15ouMais  RespRenda_Ate1Sal  \\\n",
       "0    100.000000         2.325581        3.267045          20.848057   \n",
       "1    100.000000         0.000000        3.161398          30.522088   \n",
       "2    100.000000         0.000000        1.196172          25.405405   \n",
       "3     98.466258         4.166667        0.882029          25.153374   \n",
       "4    100.000000         1.369863        3.552632          21.739130   \n",
       "5    100.000000         0.000000        2.027027          27.777778   \n",
       "6    100.000000         1.219512        4.873950          44.029851   \n",
       "7     98.892989         1.162791        6.068966          49.077491   \n",
       "8    100.000000         5.970149        2.311248          37.500000   \n",
       "9    100.000000         0.000000        0.922509          38.521401   \n",
       "\n",
       "   RendaPerCapita  DomRendaMedia Classe_Econ  \n",
       "0      742.749412    2230.872792           D  \n",
       "1      666.727031    2010.891566           D  \n",
       "2      571.290323    1627.405405           D  \n",
       "3      585.449177    1855.119632           D  \n",
       "4      642.935079    1906.841615           D  \n",
       "5      349.825581     835.694444           E  \n",
       "6      385.867347    1128.805970           E  \n",
       "7      377.782474    1352.210332           D  \n",
       "8      452.229913    1306.621429           D  \n",
       "9      510.029369    1351.478599           D  "
      ]
     },
     "execution_count": 23,
     "metadata": {},
     "output_type": "execute_result"
    }
   ],
   "source": [
    "base[0:10]"
   ]
  },
  {
   "cell_type": "markdown",
   "metadata": {},
   "source": [
    "## <font color=blue> Principal Component Analysis - PCA </font>"
   ]
  },
  {
   "cell_type": "code",
   "execution_count": 24,
   "metadata": {},
   "outputs": [
    {
     "name": "stdout",
     "output_type": "stream",
     "text": [
      "Index(['Setor', 'num_Habitantes', 'AguaADEQUADA', 'EsgotoADEQUADO',\n",
      "       'Medidor_Eletric', 'LixoADEQUADO', 'Analfa10a14anos', 'Analfa15ouMais',\n",
      "       'RespRenda_Ate1Sal', 'RendaPerCapita', 'DomRendaMedia', 'Classe_Econ'],\n",
      "      dtype='object')\n",
      "(10230, 12)\n",
      "(10142, 12)\n",
      "(10142, 10)\n"
     ]
    }
   ],
   "source": [
    "import pandas as pd\n",
    "import numpy as np\n",
    "\n",
    "from sklearn.decomposition import PCA\n",
    "\n",
    "import matplotlib.pyplot as plt\n",
    "%matplotlib inline\n",
    "\n",
    "###########\n",
    "# reading data_frame\n",
    "###########\n",
    "df = pd.read_csv('domicilios-rio2010.csv')\n",
    "\n",
    "print(df.columns)  ## nomes das colunas\n",
    "print(df.shape)  ##tamanho do arquivo\n",
    "\n",
    "###########\n",
    "# cleaning the data (remove rows with NaN)\n",
    "###########\n",
    "\n",
    "df.dropna(how='any',inplace=True)  ##dropna elimina \n",
    "print(df.shape)\n",
    "\n",
    "###########\n",
    "# converting data columns to numpy array\n",
    "###########\n",
    "\n",
    "columns = ['num_Habitantes','AguaADEQUADA', 'EsgotoADEQUADO',\n",
    "      'Medidor_Eletric', 'LixoADEQUADO', 'Analfa10a14anos', 'Analfa15ouMais',\n",
    "      'RespRenda_Ate1Sal', 'RendaPerCapita', 'DomRendaMedia']\n",
    "\n",
    "data = df[columns].values  ##matriz de dados\n",
    "\n",
    "# data = df[['AguaADEQUADA', 'EsgotoADEQUADO',\n",
    "#        'Medidor_Eletric', 'LixoADEQUADO', 'Analfa10a14anos', 'Analfa15ouMais',\n",
    "#        'RespRenda_Ate1Sal', 'RendaPerCapita', 'DomRendaMedia']].values\n",
    "\n",
    "print(data.shape)\n",
    "\n",
    "# data = df[['AguaADEQUADA', 'EsgotoADEQUADO',\n",
    "#        'Medidor_Eletric', 'LixoADEQUADO', 'Analfa10a14anos', 'Analfa15ouMais',\n",
    "#        'RespRenda_Ate1Sal']].values\n"
   ]
  },
  {
   "cell_type": "code",
   "execution_count": 25,
   "metadata": {},
   "outputs": [
    {
     "data": {
      "text/plain": [
       "<matplotlib.collections.PathCollection at 0x266e6316da0>"
      ]
     },
     "execution_count": 25,
     "metadata": {},
     "output_type": "execute_result"
    },
    {
     "data": {
      "image/png": "[encoded data removed]",
      "text/plain": [
       "<Figure size 432x288 with 1 Axes>"
      ]
     },
     "metadata": {
      "needs_background": "light"
     },
     "output_type": "display_data"
    }
   ],
   "source": [
    "###########\n",
    "# projecting data in 2D\n",
    "###########\n",
    "\n",
    "pca_proj1=PCA(n_components=2) ##número de componentes para visualizar pontos\n",
    "data_2d=pca_proj1.fit_transform(data) ## esse comendo calcula uma direção principal, em relação à variância. \n",
    "\n",
    "plt.scatter(data_2d[:,0],data_2d[:,1])"
   ]
  },
  {
   "cell_type": "markdown",
   "metadata": {},
   "source": [
    "### Outliers hamper PCA analysis"
   ]
  },
  {
   "cell_type": "code",
   "execution_count": 26,
   "metadata": {},
   "outputs": [
    {
     "data": {
      "text/plain": [
       "<matplotlib.collections.PathCollection at 0x266e5007e48>"
      ]
     },
     "execution_count": 26,
     "metadata": {},
     "output_type": "execute_result"
    },
    {
     "data": {
      "image/png": "[encoded data removed]",
      "text/plain": [
       "<Figure size 432x288 with 1 Axes>"
      ]
     },
     "metadata": {
      "needs_background": "light"
     },
     "output_type": "display_data"
    }
   ],
   "source": [
    "from scipy import stats\n",
    "\n",
    "###########\n",
    "# Analyzing and Removing outliers via Z-score method\n",
    "###########\n",
    "\n",
    "data_zscore = stats.zscore(data,axis=0)  ##transforma os dados segundo o calculo de score (média zero e desvio unitário)\n",
    "\n",
    "outliers_ids = np.where(np.abs(data_zscore)>3)[0]  ##retirna uma lista de linhas e colunas. Retiro as linhas outliers\n",
    "non_outliers_ids = [i for i in range(data.shape[0]) if i not in outliers_ids] ## retiro os valores \n",
    "data_filtered = data[non_outliers_ids,:]\n",
    "\n",
    "\n",
    "pca_proj2=PCA(n_components=2)\n",
    "data_2d_filtered=pca_proj2.fit_transform(data_filtered)\n",
    "\n",
    "plt.scatter(data_2d_filtered[:,0],data_2d_filtered[:,1])"
   ]
  },
  {
   "cell_type": "code",
   "execution_count": 27,
   "metadata": {},
   "outputs": [
    {
     "name": "stdout",
     "output_type": "stream",
     "text": [
      "[7.34750912e+06 1.84225311e+05 4.00646927e+04 1.24929578e+02\n",
      " 5.89250203e+01 4.59193682e+01 6.11281756e+00 4.11406834e+00\n",
      " 2.36861270e+00 1.39556050e+00]\n",
      "[9.70347003e-01 2.43296708e-02 5.29113388e-03 1.64987943e-05\n",
      " 7.78191846e-06 6.06433017e-06 8.07287762e-07 5.43323433e-07\n",
      " 3.12810259e-07 1.84304358e-07]\n"
     ]
    },
    {
     "data": {
      "text/plain": [
       "[<matplotlib.lines.Line2D at 0x266e63c7940>]"
      ]
     },
     "execution_count": 27,
     "metadata": {},
     "output_type": "execute_result"
    },
    {
     "data": {
      "image/png": "[encoded data removed]",
      "text/plain": [
       "<Figure size 432x288 with 1 Axes>"
      ]
     },
     "metadata": {
      "needs_background": "light"
     },
     "output_type": "display_data"
    }
   ],
   "source": [
    "#############\n",
    "# amount of explained variance \n",
    "#############\n",
    "\n",
    "data_pca = PCA(svd_solver='full')  ##decomposicao svd para encontrar autovalores e autovetores\n",
    "#data_pca.fit(data[1:])\n",
    "data_pca.fit(data_filtered)\n",
    "print(data_pca.explained_variance_)\n",
    "print(data_pca.explained_variance_ratio_)\n",
    "\n",
    "plt.plot(data_pca.explained_variance_ratio_, '*')"
   ]
  },
  {
   "cell_type": "code",
   "execution_count": 28,
   "metadata": {},
   "outputs": [
    {
     "name": "stdout",
     "output_type": "stream",
     "text": [
      "[[2.81975994e-02 8.61813462e-05 5.19941750e-04 1.26571495e-03\n",
      "  4.93735833e-05 2.22368493e-04 4.86749938e-04 3.44156222e-03\n",
      "  3.89438029e-01 9.20613330e-01]\n",
      " [9.76689012e-01 4.97964360e-04 1.11433057e-03 1.17054238e-03\n",
      "  8.24246836e-06 1.75117781e-04 7.37905070e-04 1.50028628e-03\n",
      "  1.85320006e-01 1.08302280e-01]]\n",
      "(2, 10)\n",
      "['LixoADEQUADO', 'AguaADEQUADA', 'Analfa10a14anos', 'LixoADEQUADO', 'Analfa10a14anos', 'AguaADEQUADA']\n"
     ]
    }
   ],
   "source": [
    "#######\n",
    "# finding the most relevant attributes\n",
    "#######\n",
    "\n",
    "print(np.abs(data_pca.components_[0:2,:]))  ##os dados podem exlicados pelos maiores valores desse caso\n",
    "\n",
    "rel_attrib = np.argsort(np.abs(data_pca.components_[0:2,:]))  ##função que retorna os indíces de uma ordenação\n",
    "print(rel_attrib.shape)\n",
    "\n",
    "print([columns[i] for i in rel_attrib[0:2,0:3].ravel()])  ##ravel concatena linhas. \n"
   ]
  }
 ],
 "metadata": {
  "kernelspec": {
   "display_name": "Python 3",
   "language": "python",
   "name": "python3"
  },
  "language_info": {
   "codemirror_mode": {
    "name": "ipython",
    "version": 3
   },
   "file_extension": ".py",
   "mimetype": "text/x-python",
   "name": "python",
   "nbconvert_exporter": "python",
   "pygments_lexer": "ipython3",
   "version": "3.7.1"
  }
 },
 "nbformat": 4,
 "nbformat_minor": 2
}
